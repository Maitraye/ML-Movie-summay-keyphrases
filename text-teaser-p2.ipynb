{
 "cells": [
  {
   "cell_type": "code",
   "execution_count": 35,
   "metadata": {},
   "outputs": [],
   "source": [
    "import json\n",
    "movie_list = []\n",
    "with open(\"movie_dict_3.json\", \"r\") as fin:\n",
    "    for i, line in enumerate(fin):\n",
    "        plot_dict = {}\n",
    "        movie_json = json.loads(line)\n",
    "        plot_dict['title'] = movie_json['Title']\n",
    "        plot_dict['imdb_id'] = movie_json['imdb_id']\n",
    "        plot_dict['summary'] = movie_json['Plot']\n",
    "        movie_list.append(plot_dict)"
   ]
  },
  {
   "cell_type": "code",
   "execution_count": 38,
   "metadata": {},
   "outputs": [],
   "source": [
    "from pyteaser import Summarize\n",
    "import io\n",
    "\n",
    "output_movie_list = []\n",
    "for entry in movie_list:\n",
    "    filename = \"/Users/maitrayedas/Documents/Fall 2018/ML/project/movie/MPST/final_plots_wiki_imdb_combined/raw/\" + entry['imdb_id'] + \".txt\"\n",
    "    with io.open(filename, \"r\", encoding=\"utf-8\") as fin:\n",
    "        synopsis = fin.read()\n",
    "        \n",
    "    summary_sentences = Summarize(entry['title'], synopsis)\n",
    "    new_summary = ' '.join(summary_sentences)\n",
    "    entry['out_summary'] = new_summary\n",
    "    output_movie_list.append(entry)"
   ]
  },
  {
   "cell_type": "code",
   "execution_count": 39,
   "metadata": {},
   "outputs": [
    {
     "name": "stdout",
     "output_type": "stream",
     "text": [
      "14820\n"
     ]
    }
   ],
   "source": [
    "print(len(output_movie_list))"
   ]
  },
  {
   "cell_type": "code",
   "execution_count": 40,
   "metadata": {},
   "outputs": [
    {
     "data": {
      "text/plain": [
       "{'imdb_id': u'tt0110632',\n",
       " 'out_summary': u'Mallory is held in solitary confinement elsewhere in the prison, awaiting her transport to the mental hospital.During the interview, Mickey gives a speech about how murder provides enlightenment and declares himself a \"natural born killer.\" Scagnetti is already a well-known personality, a published author, whose book \"Scagnetti on Scagnetti\" is a best-seller within law enforcement. Inmates torture and murder prisoners and guards alike.During the interview and outbreak of the riot, Scagnetti is in Mallory\\'s cell. In retaliation, Mallory shoots Gale thru his hand & they retreat, taking cover in a blood-splattered shower room. Scagnetti arrives at the prison and encounters Dwight McClusky, the sleazy and abusive warden of the prison.',\n",
       " 'summary': u\"Mickey Knox and Mallory Wilson aren't your typical lovers - after killing her abusive father, they go on a road trip where, every time they stop somewhere, they kill pretty well everyone around them. They do however leave one person alive at every shootout to tell the story and they soon become a media sensation thanks to sensationalized reporting. Told in a highly visual style.\",\n",
       " 'title': u'Natural Born Killers'}"
      ]
     },
     "execution_count": 40,
     "metadata": {},
     "output_type": "execute_result"
    }
   ],
   "source": [
    "output_movie_list[100]"
   ]
  },
  {
   "cell_type": "code",
   "execution_count": 41,
   "metadata": {},
   "outputs": [],
   "source": [
    "import json\n",
    "with open('output_textteaser.json', 'a') as fout:\n",
    "    for row in output_movie_list:\n",
    "        json.dump(row, fout)\n",
    "        fout.write('\\n')"
   ]
  },
  {
   "cell_type": "code",
   "execution_count": 22,
   "metadata": {},
   "outputs": [
    {
     "ename": "SyntaxError",
     "evalue": "invalid syntax (rouge.py, line 477)",
     "output_type": "error",
     "traceback": [
      "\u001b[0;36m  File \u001b[0;32m\"/usr/local/lib/python2.7/site-packages/rouge/rouge.py\"\u001b[0;36m, line \u001b[0;32m477\u001b[0m\n\u001b[0;31m    scores = {**scores, **self._get_scores_rouge_n(hypothesis, references)}\u001b[0m\n\u001b[0m               ^\u001b[0m\n\u001b[0;31mSyntaxError\u001b[0m\u001b[0;31m:\u001b[0m invalid syntax\n"
     ]
    }
   ],
   "source": [
    "import rouge\n",
    "\n",
    "def prepare_results(p, r, f):\n",
    "    return '\\t{}:\\t{}: {:5.2f}\\t{}: {:5.2f}\\t{}: {:5.2f}'.format(metric, 'P', 100.0 * p, 'R', 100.0 * r, 'F1', 100.0 * f)\n",
    "\n",
    "evaluator = rouge.Rouge(metrics=['rouge-n', 'rouge-l', 'rouge-w'],\n",
    "                           max_n=4,\n",
    "                           limit_length=False,\n",
    "                           length_limit=100,\n",
    "                           length_limit_type='words',\n",
    "                           apply_avg=True,\n",
    "                           apply_best=False,\n",
    "                           alpha=0.5, # Default F1_score\n",
    "                           weight_factor=1.2,\n",
    "                           stemming=True)\n",
    "\n",
    "all_hypothesis = []\n",
    "all_references = []\n",
    "for entry in output_movie_list:\n",
    "    all_hypothesis.append(entry['out_summary'])\n",
    "    all_references.append(entry['summary'])\n",
    "\n",
    "scores = evaluator.get_scores(all_hypothesis, all_references)\n",
    "\n",
    "for metric, results in sorted(scores.items(), key=lambda x: x[0]):\n",
    "    print(prepare_results(results['p'], results['r'], results['f']))"
   ]
  },
  {
   "cell_type": "code",
   "execution_count": null,
   "metadata": {},
   "outputs": [],
   "source": []
  }
 ],
 "metadata": {
  "kernelspec": {
   "display_name": "Python 2",
   "language": "python",
   "name": "python2"
  },
  "language_info": {
   "codemirror_mode": {
    "name": "ipython",
    "version": 2
   },
   "file_extension": ".py",
   "mimetype": "text/x-python",
   "name": "python",
   "nbconvert_exporter": "python",
   "pygments_lexer": "ipython2",
   "version": "2.7.14"
  }
 },
 "nbformat": 4,
 "nbformat_minor": 2
}
